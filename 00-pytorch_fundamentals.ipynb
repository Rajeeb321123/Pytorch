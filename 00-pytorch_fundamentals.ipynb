{
  "nbformat": 4,
  "nbformat_minor": 0,
  "metadata": {
    "colab": {
      "provenance": [],
      "toc_visible": true,
      "authorship_tag": "ABX9TyMW7L8nys8xJK+VNkJx+HsO",
      "include_colab_link": true
    },
    "kernelspec": {
      "name": "python3",
      "display_name": "Python 3"
    },
    "language_info": {
      "name": "python"
    }
  },
  "cells": [
    {
      "cell_type": "markdown",
      "metadata": {
        "id": "view-in-github",
        "colab_type": "text"
      },
      "source": [
        "<a href=\"https://colab.research.google.com/github/Rajeeb321123/Pytorch/blob/master/00-pytorch_fundamentals.ipynb\" target=\"_parent\"><img src=\"https://colab.research.google.com/assets/colab-badge.svg\" alt=\"Open In Colab\"/></a>"
      ]
    },
    {
      "cell_type": "markdown",
      "source": [
        "## Introduction"
      ],
      "metadata": {
        "id": "kWNo5LeQP53y"
      }
    },
    {
      "cell_type": "code",
      "execution_count": null,
      "metadata": {
        "colab": {
          "base_uri": "https://localhost:8080/"
        },
        "id": "YaDFPom5OyFk",
        "outputId": "87c57966-0004-4332-b408-6aa06d7a9365"
      },
      "outputs": [
        {
          "output_type": "stream",
          "name": "stdout",
          "text": [
            "2.5.1+cu121\n"
          ]
        }
      ],
      "source": [
        "import torch\n",
        "print(torch.__version__)"
      ]
    },
    {
      "cell_type": "markdown",
      "source": [
        "### Scaler"
      ],
      "metadata": {
        "id": "l2OM9_ShQw13"
      }
    },
    {
      "cell_type": "code",
      "source": [
        "scaler = torch.tensor(7)\n",
        "scaler, scaler.shape, scaler.dtype"
      ],
      "metadata": {
        "colab": {
          "base_uri": "https://localhost:8080/"
        },
        "id": "7KDPbOz5P3Y9",
        "outputId": "633da3bd-b78f-4ffc-fa26-bc8c569aa9f6"
      },
      "execution_count": null,
      "outputs": [
        {
          "output_type": "execute_result",
          "data": {
            "text/plain": [
              "(tensor(7), torch.Size([]), torch.int64)"
            ]
          },
          "metadata": {},
          "execution_count": 5
        }
      ]
    },
    {
      "cell_type": "code",
      "source": [
        "scaler.ndim"
      ],
      "metadata": {
        "colab": {
          "base_uri": "https://localhost:8080/"
        },
        "id": "3gMiKMBzQgUZ",
        "outputId": "db558987-29e0-4b08-ec5e-ede7288e1a52"
      },
      "execution_count": null,
      "outputs": [
        {
          "output_type": "execute_result",
          "data": {
            "text/plain": [
              "0"
            ]
          },
          "metadata": {},
          "execution_count": 6
        }
      ]
    },
    {
      "cell_type": "markdown",
      "source": [
        "### Vector"
      ],
      "metadata": {
        "id": "qVJyPCP4Qspm"
      }
    },
    {
      "cell_type": "code",
      "source": [
        "vector = torch.tensor([1,2,3])\n",
        "vector, vector.shape, vector.dtype"
      ],
      "metadata": {
        "colab": {
          "base_uri": "https://localhost:8080/"
        },
        "id": "yJRSPQvTQ5SC",
        "outputId": "841213cb-6128-4822-d7ff-028c052cb438"
      },
      "execution_count": null,
      "outputs": [
        {
          "output_type": "execute_result",
          "data": {
            "text/plain": [
              "(tensor([1, 2, 3]), torch.Size([3]), torch.int64)"
            ]
          },
          "metadata": {},
          "execution_count": 7
        }
      ]
    },
    {
      "cell_type": "code",
      "source": [
        "vector.ndim"
      ],
      "metadata": {
        "colab": {
          "base_uri": "https://localhost:8080/"
        },
        "id": "N7d_6f7zRBzZ",
        "outputId": "37711232-ffb8-456f-ead0-65070aaaa0ec"
      },
      "execution_count": null,
      "outputs": [
        {
          "output_type": "execute_result",
          "data": {
            "text/plain": [
              "1"
            ]
          },
          "metadata": {},
          "execution_count": 8
        }
      ]
    },
    {
      "cell_type": "markdown",
      "source": [
        "### Matrix"
      ],
      "metadata": {
        "id": "8iTrMN5ORGqx"
      }
    },
    {
      "cell_type": "code",
      "source": [
        "matrix = torch.tensor([[1,2,3],[4,5,6]])\n",
        "matrix, matrix.shape, matrix.dtype"
      ],
      "metadata": {
        "colab": {
          "base_uri": "https://localhost:8080/"
        },
        "id": "Vkm98NopRKU0",
        "outputId": "5af4f7ec-cb4b-4d20-9fe2-9dfbe0388847"
      },
      "execution_count": null,
      "outputs": [
        {
          "output_type": "execute_result",
          "data": {
            "text/plain": [
              "(tensor([[1, 2, 3],\n",
              "         [4, 5, 6]]),\n",
              " torch.Size([2, 3]),\n",
              " torch.int64)"
            ]
          },
          "metadata": {},
          "execution_count": 12
        }
      ]
    },
    {
      "cell_type": "code",
      "source": [
        "matrix = torch.tensor([[1,2,3],[4,5,6],[7,8,9]], dtype=torch.float64)\n",
        "matrix, matrix.shape, matrix.dtype"
      ],
      "metadata": {
        "colab": {
          "base_uri": "https://localhost:8080/"
        },
        "id": "VmsVGbcyRUT_",
        "outputId": "e5cef0a1-841c-427b-b50c-d9c8587e01d0"
      },
      "execution_count": null,
      "outputs": [
        {
          "output_type": "execute_result",
          "data": {
            "text/plain": [
              "(tensor([[1., 2., 3.],\n",
              "         [4., 5., 6.],\n",
              "         [7., 8., 9.]], dtype=torch.float64),\n",
              " torch.Size([3, 3]),\n",
              " torch.float64)"
            ]
          },
          "metadata": {},
          "execution_count": 18
        }
      ]
    },
    {
      "cell_type": "code",
      "source": [
        "matrix.ndim, torch.linalg.matrix_rank(matrix)"
      ],
      "metadata": {
        "colab": {
          "base_uri": "https://localhost:8080/"
        },
        "id": "teJ_CtjCRmRR",
        "outputId": "e52d3372-29e5-4305-a440-f60cc730c9b5"
      },
      "execution_count": null,
      "outputs": [
        {
          "output_type": "execute_result",
          "data": {
            "text/plain": [
              "(2, tensor(2))"
            ]
          },
          "metadata": {},
          "execution_count": 19
        }
      ]
    },
    {
      "cell_type": "markdown",
      "source": [
        "### Tensor"
      ],
      "metadata": {
        "id": "Pg7X198CRpGo"
      }
    },
    {
      "cell_type": "code",
      "source": [
        "tensor = torch.tensor([[[1,2,3],[4,5,6]],[[7,8,9],[10,11,12]]], dtype=torch.float64)\n",
        "tensor, tensor.shape, tensor.dtype"
      ],
      "metadata": {
        "colab": {
          "base_uri": "https://localhost:8080/"
        },
        "id": "Zj9Ikee5SMk7",
        "outputId": "67e6ac97-e288-4793-9cb1-b851973816de"
      },
      "execution_count": null,
      "outputs": [
        {
          "output_type": "execute_result",
          "data": {
            "text/plain": [
              "(tensor([[[ 1.,  2.,  3.],\n",
              "          [ 4.,  5.,  6.]],\n",
              " \n",
              "         [[ 7.,  8.,  9.],\n",
              "          [10., 11., 12.]]], dtype=torch.float64),\n",
              " torch.Size([2, 2, 3]),\n",
              " torch.float64)"
            ]
          },
          "metadata": {},
          "execution_count": 24
        }
      ]
    },
    {
      "cell_type": "code",
      "source": [
        "tensor.ndim, torch.linalg.matrix_rank(tensor)"
      ],
      "metadata": {
        "colab": {
          "base_uri": "https://localhost:8080/"
        },
        "id": "5RG_1C5FSZQ0",
        "outputId": "12162fb7-e797-472d-d67f-355665bcc7e7"
      },
      "execution_count": null,
      "outputs": [
        {
          "output_type": "execute_result",
          "data": {
            "text/plain": [
              "(3, tensor([2, 2]))"
            ]
          },
          "metadata": {},
          "execution_count": 25
        }
      ]
    },
    {
      "cell_type": "markdown",
      "source": [
        "### Changeable and unchangeable tensor"
      ],
      "metadata": {
        "id": "yg5rZaycScPJ"
      }
    },
    {
      "cell_type": "code",
      "source": [
        "changeable_tensor = torch.tensor([1,2,3])\n",
        "unchangeable_tensor = torch.tensor([1,2,3], dtype=torch.float64, requires_grad=True)\n",
        "changeable_tensor, unchangeable_tensor"
      ],
      "metadata": {
        "colab": {
          "base_uri": "https://localhost:8080/"
        },
        "id": "3AJKAGZ-TJQW",
        "outputId": "0853e2c4-d532-4a3d-f690-fbdd19ccb9f5"
      },
      "execution_count": null,
      "outputs": [
        {
          "output_type": "execute_result",
          "data": {
            "text/plain": [
              "(tensor([1, 2, 3]),\n",
              " tensor([1., 2., 3.], dtype=torch.float64, requires_grad=True))"
            ]
          },
          "metadata": {},
          "execution_count": 28
        }
      ]
    },
    {
      "cell_type": "code",
      "source": [
        "unchangeable_tensor[0] = 4"
      ],
      "metadata": {
        "colab": {
          "base_uri": "https://localhost:8080/",
          "height": 141
        },
        "id": "EcKsFu4JTOd9",
        "outputId": "dea60b28-9365-43b6-92cc-aad0646c7c9b"
      },
      "execution_count": null,
      "outputs": [
        {
          "output_type": "error",
          "ename": "RuntimeError",
          "evalue": "a view of a leaf Variable that requires grad is being used in an in-place operation.",
          "traceback": [
            "\u001b[0;31m---------------------------------------------------------------------------\u001b[0m",
            "\u001b[0;31mRuntimeError\u001b[0m                              Traceback (most recent call last)",
            "\u001b[0;32m<ipython-input-29-e2e8b566d676>\u001b[0m in \u001b[0;36m<cell line: 0>\u001b[0;34m()\u001b[0m\n\u001b[0;32m----> 1\u001b[0;31m \u001b[0munchangeable_tensor\u001b[0m\u001b[0;34m[\u001b[0m\u001b[0;36m0\u001b[0m\u001b[0;34m]\u001b[0m \u001b[0;34m=\u001b[0m \u001b[0;36m4\u001b[0m\u001b[0;34m\u001b[0m\u001b[0;34m\u001b[0m\u001b[0m\n\u001b[0m",
            "\u001b[0;31mRuntimeError\u001b[0m: a view of a leaf Variable that requires grad is being used in an in-place operation."
          ]
        }
      ]
    },
    {
      "cell_type": "code",
      "source": [
        "changeable_tensor[0] = 4\n",
        "changeable_tensor"
      ],
      "metadata": {
        "colab": {
          "base_uri": "https://localhost:8080/"
        },
        "id": "0vhLYaxITrjU",
        "outputId": "053969ea-8902-4b9c-a92f-2db0808e26a5"
      },
      "execution_count": null,
      "outputs": [
        {
          "output_type": "execute_result",
          "data": {
            "text/plain": [
              "tensor([4, 2, 3])"
            ]
          },
          "metadata": {},
          "execution_count": 30
        }
      ]
    },
    {
      "cell_type": "markdown",
      "source": [
        "### Creating random tensor in pytorch"
      ],
      "metadata": {
        "id": "B6kpFODCTtLJ"
      }
    },
    {
      "cell_type": "code",
      "source": [
        "torch.manual_seed(42)\n",
        "random_tensor = torch.rand(3,4)\n",
        "\n",
        "torch.manual_seed(52)\n",
        "random_tensor_2 = torch.rand(3,4)\n",
        "random_tensor, random_tensor_2, random_tensor == random_tensor_2"
      ],
      "metadata": {
        "colab": {
          "base_uri": "https://localhost:8080/"
        },
        "id": "UhFrkNbUUF-e",
        "outputId": "1fb9b756-be3c-41ba-f642-3fa404accb74"
      },
      "execution_count": null,
      "outputs": [
        {
          "output_type": "execute_result",
          "data": {
            "text/plain": [
              "(tensor([[0.8823, 0.9150, 0.3829, 0.9593],\n",
              "         [0.3904, 0.6009, 0.2566, 0.7936],\n",
              "         [0.9408, 0.1332, 0.9346, 0.5936]]),\n",
              " tensor([[0.8823, 0.9150, 0.3829, 0.9593],\n",
              "         [0.3904, 0.6009, 0.2566, 0.7936],\n",
              "         [0.9408, 0.1332, 0.9346, 0.5936]]),\n",
              " tensor([[True, True, True, True],\n",
              "         [True, True, True, True],\n",
              "         [True, True, True, True]]))"
            ]
          },
          "metadata": {},
          "execution_count": 32
        }
      ]
    },
    {
      "cell_type": "markdown",
      "source": [
        "### Shuffling"
      ],
      "metadata": {
        "id": "61klP2tCVGxP"
      }
    },
    {
      "cell_type": "code",
      "source": [
        "torch.manual_seed(42)\n",
        "not_shuffled = torch.rand(3,4)\n",
        "print(not_shuffled.size(0))\n",
        "\n",
        "torch.manual_seed(42)\n",
        "indices = torch.randperm(not_shuffled.size(0)) # 3 frin shape (3,4)\n",
        "shuffled = not_shuffled[indices]\n",
        "not_shuffled, shuffled\n"
      ],
      "metadata": {
        "id": "FTgqzKbQV5ol",
        "colab": {
          "base_uri": "https://localhost:8080/"
        },
        "outputId": "07053c71-9490-4023-e507-93457501e552"
      },
      "execution_count": null,
      "outputs": [
        {
          "output_type": "stream",
          "name": "stdout",
          "text": [
            "3\n"
          ]
        },
        {
          "output_type": "execute_result",
          "data": {
            "text/plain": [
              "(tensor([[0.8823, 0.9150, 0.3829, 0.9593],\n",
              "         [0.3904, 0.6009, 0.2566, 0.7936],\n",
              "         [0.9408, 0.1332, 0.9346, 0.5936]]),\n",
              " tensor([[0.8823, 0.9150, 0.3829, 0.9593],\n",
              "         [0.9408, 0.1332, 0.9346, 0.5936],\n",
              "         [0.3904, 0.6009, 0.2566, 0.7936]]))"
            ]
          },
          "metadata": {},
          "execution_count": 58
        }
      ]
    },
    {
      "cell_type": "code",
      "source": [
        "torch.manual_seed(42)\n",
        "indices = torch.randperm(not_shuffled.size(0)) # 3 frin shape (3,4)\n",
        "shuffled = not_shuffled[indices]\n",
        "shuffled"
      ],
      "metadata": {
        "colab": {
          "base_uri": "https://localhost:8080/"
        },
        "id": "UTEmjK1rWYbx",
        "outputId": "61b4b1bf-c946-4d3e-a339-da0f8e5e9995"
      },
      "execution_count": null,
      "outputs": [
        {
          "output_type": "execute_result",
          "data": {
            "text/plain": [
              "tensor([[0.8823, 0.9150, 0.3829, 0.9593],\n",
              "        [0.9408, 0.1332, 0.9346, 0.5936],\n",
              "        [0.3904, 0.6009, 0.2566, 0.7936]])"
            ]
          },
          "metadata": {},
          "execution_count": 59
        }
      ]
    },
    {
      "cell_type": "markdown",
      "source": [
        "### Other way"
      ],
      "metadata": {
        "id": "OggMyEq6WS4D"
      }
    },
    {
      "cell_type": "code",
      "source": [
        "ones_tensor = torch.ones(3,4)\n",
        "zeros_tensor = torch.zeros(3,4)\n",
        "ones_tensor, zeros_tensor"
      ],
      "metadata": {
        "colab": {
          "base_uri": "https://localhost:8080/"
        },
        "id": "1KTAHMi6Ym9P",
        "outputId": "058e17e9-3874-4e21-e9ba-55b0515ec2d4"
      },
      "execution_count": null,
      "outputs": [
        {
          "output_type": "execute_result",
          "data": {
            "text/plain": [
              "(tensor([[1., 1., 1., 1.],\n",
              "         [1., 1., 1., 1.],\n",
              "         [1., 1., 1., 1.]]),\n",
              " tensor([[0., 0., 0., 0.],\n",
              "         [0., 0., 0., 0.],\n",
              "         [0., 0., 0., 0.]]))"
            ]
          },
          "metadata": {},
          "execution_count": 60
        }
      ]
    },
    {
      "cell_type": "markdown",
      "source": [
        "### Numpy to Torch"
      ],
      "metadata": {
        "id": "IoOgExwwY7SP"
      }
    },
    {
      "cell_type": "code",
      "source": [
        "import numpy as np\n",
        "numpy_A = np.arange(1, 25, dtype=np.int32) # create a NumPy array between 1 and 25\n",
        "numpy_A"
      ],
      "metadata": {
        "colab": {
          "base_uri": "https://localhost:8080/"
        },
        "id": "i8gSCjVNYpxk",
        "outputId": "ec5cca0a-f310-4582-aaca-1eae030b1111"
      },
      "execution_count": null,
      "outputs": [
        {
          "output_type": "execute_result",
          "data": {
            "text/plain": [
              "array([ 1,  2,  3,  4,  5,  6,  7,  8,  9, 10, 11, 12, 13, 14, 15, 16, 17,\n",
              "       18, 19, 20, 21, 22, 23, 24], dtype=int32)"
            ]
          },
          "metadata": {},
          "execution_count": 126
        }
      ]
    },
    {
      "cell_type": "code",
      "source": [
        "tensor = torch.tensor(numpy_A, dtype=torch.float32) # create a PyTorch tensor from NumPy array\n",
        "tensor, tensor.shape, tensor.dtype\n"
      ],
      "metadata": {
        "colab": {
          "base_uri": "https://localhost:8080/"
        },
        "id": "5F7rOBS1Y6mH",
        "outputId": "fa57672e-c71f-470a-eea0-8e0a4ccaee50"
      },
      "execution_count": null,
      "outputs": [
        {
          "output_type": "execute_result",
          "data": {
            "text/plain": [
              "(tensor([ 1.,  2.,  3.,  4.,  5.,  6.,  7.,  8.,  9., 10., 11., 12., 13., 14.,\n",
              "         15., 16., 17., 18., 19., 20., 21., 22., 23., 24.]),\n",
              " torch.Size([24]),\n",
              " torch.float32)"
            ]
          },
          "metadata": {},
          "execution_count": 127
        }
      ]
    },
    {
      "cell_type": "code",
      "source": [
        "tensor.numpy(),np.array(tensor)"
      ],
      "metadata": {
        "colab": {
          "base_uri": "https://localhost:8080/"
        },
        "id": "lcqLbeUIqznf",
        "outputId": "3d0ae502-b1a8-42c5-8b7b-53791267c7f7"
      },
      "execution_count": null,
      "outputs": [
        {
          "output_type": "execute_result",
          "data": {
            "text/plain": [
              "(array([ 1.,  2.,  3.,  4.,  5.,  6.,  7.,  8.,  9., 10., 11., 12., 13.,\n",
              "        14., 15., 16., 17., 18., 19., 20., 21., 22., 23., 24.],\n",
              "       dtype=float32),\n",
              " array([ 1.,  2.,  3.,  4.,  5.,  6.,  7.,  8.,  9., 10., 11., 12., 13.,\n",
              "        14., 15., 16., 17., 18., 19., 20., 21., 22., 23., 24.],\n",
              "       dtype=float32))"
            ]
          },
          "metadata": {},
          "execution_count": 130
        }
      ]
    },
    {
      "cell_type": "markdown",
      "source": [
        "### Reshaping tensor"
      ],
      "metadata": {
        "id": "vCCxdD1-jcWy"
      }
    },
    {
      "cell_type": "code",
      "source": [
        "tensor = torch.tensor([1,2,3,4])\n",
        "tensor, tensor.shape, tensor.view(2,2), tensor.reshape(2,2) # use reshape -> more flexible"
      ],
      "metadata": {
        "colab": {
          "base_uri": "https://localhost:8080/"
        },
        "id": "ofdJwaF8jehS",
        "outputId": "499c840a-1cc6-4241-97b0-7f4bff9a4d80"
      },
      "execution_count": null,
      "outputs": [
        {
          "output_type": "execute_result",
          "data": {
            "text/plain": [
              "(tensor([1, 2, 3, 4]),\n",
              " torch.Size([4]),\n",
              " tensor([[1, 2],\n",
              "         [3, 4]]),\n",
              " tensor([[1, 2],\n",
              "         [3, 4]]))"
            ]
          },
          "metadata": {},
          "execution_count": 112
        }
      ]
    },
    {
      "cell_type": "markdown",
      "source": [
        "## Getting information from Tensor"
      ],
      "metadata": {
        "id": "pYnbF_q7ZEcu"
      }
    },
    {
      "cell_type": "code",
      "source": [
        "rank_5_tensor = torch.zeros(size=(2,3,4,5,6))\n",
        "rank_5_tensor"
      ],
      "metadata": {
        "colab": {
          "base_uri": "https://localhost:8080/"
        },
        "id": "oI9QQXsTZUxL",
        "outputId": "d2757950-400e-44d0-ca18-d36e8c425f4e"
      },
      "execution_count": null,
      "outputs": [
        {
          "output_type": "execute_result",
          "data": {
            "text/plain": [
              "tensor([[[[[0., 0., 0., 0., 0., 0.],\n",
              "           [0., 0., 0., 0., 0., 0.],\n",
              "           [0., 0., 0., 0., 0., 0.],\n",
              "           [0., 0., 0., 0., 0., 0.],\n",
              "           [0., 0., 0., 0., 0., 0.]],\n",
              "\n",
              "          [[0., 0., 0., 0., 0., 0.],\n",
              "           [0., 0., 0., 0., 0., 0.],\n",
              "           [0., 0., 0., 0., 0., 0.],\n",
              "           [0., 0., 0., 0., 0., 0.],\n",
              "           [0., 0., 0., 0., 0., 0.]],\n",
              "\n",
              "          [[0., 0., 0., 0., 0., 0.],\n",
              "           [0., 0., 0., 0., 0., 0.],\n",
              "           [0., 0., 0., 0., 0., 0.],\n",
              "           [0., 0., 0., 0., 0., 0.],\n",
              "           [0., 0., 0., 0., 0., 0.]],\n",
              "\n",
              "          [[0., 0., 0., 0., 0., 0.],\n",
              "           [0., 0., 0., 0., 0., 0.],\n",
              "           [0., 0., 0., 0., 0., 0.],\n",
              "           [0., 0., 0., 0., 0., 0.],\n",
              "           [0., 0., 0., 0., 0., 0.]]],\n",
              "\n",
              "\n",
              "         [[[0., 0., 0., 0., 0., 0.],\n",
              "           [0., 0., 0., 0., 0., 0.],\n",
              "           [0., 0., 0., 0., 0., 0.],\n",
              "           [0., 0., 0., 0., 0., 0.],\n",
              "           [0., 0., 0., 0., 0., 0.]],\n",
              "\n",
              "          [[0., 0., 0., 0., 0., 0.],\n",
              "           [0., 0., 0., 0., 0., 0.],\n",
              "           [0., 0., 0., 0., 0., 0.],\n",
              "           [0., 0., 0., 0., 0., 0.],\n",
              "           [0., 0., 0., 0., 0., 0.]],\n",
              "\n",
              "          [[0., 0., 0., 0., 0., 0.],\n",
              "           [0., 0., 0., 0., 0., 0.],\n",
              "           [0., 0., 0., 0., 0., 0.],\n",
              "           [0., 0., 0., 0., 0., 0.],\n",
              "           [0., 0., 0., 0., 0., 0.]],\n",
              "\n",
              "          [[0., 0., 0., 0., 0., 0.],\n",
              "           [0., 0., 0., 0., 0., 0.],\n",
              "           [0., 0., 0., 0., 0., 0.],\n",
              "           [0., 0., 0., 0., 0., 0.],\n",
              "           [0., 0., 0., 0., 0., 0.]]],\n",
              "\n",
              "\n",
              "         [[[0., 0., 0., 0., 0., 0.],\n",
              "           [0., 0., 0., 0., 0., 0.],\n",
              "           [0., 0., 0., 0., 0., 0.],\n",
              "           [0., 0., 0., 0., 0., 0.],\n",
              "           [0., 0., 0., 0., 0., 0.]],\n",
              "\n",
              "          [[0., 0., 0., 0., 0., 0.],\n",
              "           [0., 0., 0., 0., 0., 0.],\n",
              "           [0., 0., 0., 0., 0., 0.],\n",
              "           [0., 0., 0., 0., 0., 0.],\n",
              "           [0., 0., 0., 0., 0., 0.]],\n",
              "\n",
              "          [[0., 0., 0., 0., 0., 0.],\n",
              "           [0., 0., 0., 0., 0., 0.],\n",
              "           [0., 0., 0., 0., 0., 0.],\n",
              "           [0., 0., 0., 0., 0., 0.],\n",
              "           [0., 0., 0., 0., 0., 0.]],\n",
              "\n",
              "          [[0., 0., 0., 0., 0., 0.],\n",
              "           [0., 0., 0., 0., 0., 0.],\n",
              "           [0., 0., 0., 0., 0., 0.],\n",
              "           [0., 0., 0., 0., 0., 0.],\n",
              "           [0., 0., 0., 0., 0., 0.]]]],\n",
              "\n",
              "\n",
              "\n",
              "        [[[[0., 0., 0., 0., 0., 0.],\n",
              "           [0., 0., 0., 0., 0., 0.],\n",
              "           [0., 0., 0., 0., 0., 0.],\n",
              "           [0., 0., 0., 0., 0., 0.],\n",
              "           [0., 0., 0., 0., 0., 0.]],\n",
              "\n",
              "          [[0., 0., 0., 0., 0., 0.],\n",
              "           [0., 0., 0., 0., 0., 0.],\n",
              "           [0., 0., 0., 0., 0., 0.],\n",
              "           [0., 0., 0., 0., 0., 0.],\n",
              "           [0., 0., 0., 0., 0., 0.]],\n",
              "\n",
              "          [[0., 0., 0., 0., 0., 0.],\n",
              "           [0., 0., 0., 0., 0., 0.],\n",
              "           [0., 0., 0., 0., 0., 0.],\n",
              "           [0., 0., 0., 0., 0., 0.],\n",
              "           [0., 0., 0., 0., 0., 0.]],\n",
              "\n",
              "          [[0., 0., 0., 0., 0., 0.],\n",
              "           [0., 0., 0., 0., 0., 0.],\n",
              "           [0., 0., 0., 0., 0., 0.],\n",
              "           [0., 0., 0., 0., 0., 0.],\n",
              "           [0., 0., 0., 0., 0., 0.]]],\n",
              "\n",
              "\n",
              "         [[[0., 0., 0., 0., 0., 0.],\n",
              "           [0., 0., 0., 0., 0., 0.],\n",
              "           [0., 0., 0., 0., 0., 0.],\n",
              "           [0., 0., 0., 0., 0., 0.],\n",
              "           [0., 0., 0., 0., 0., 0.]],\n",
              "\n",
              "          [[0., 0., 0., 0., 0., 0.],\n",
              "           [0., 0., 0., 0., 0., 0.],\n",
              "           [0., 0., 0., 0., 0., 0.],\n",
              "           [0., 0., 0., 0., 0., 0.],\n",
              "           [0., 0., 0., 0., 0., 0.]],\n",
              "\n",
              "          [[0., 0., 0., 0., 0., 0.],\n",
              "           [0., 0., 0., 0., 0., 0.],\n",
              "           [0., 0., 0., 0., 0., 0.],\n",
              "           [0., 0., 0., 0., 0., 0.],\n",
              "           [0., 0., 0., 0., 0., 0.]],\n",
              "\n",
              "          [[0., 0., 0., 0., 0., 0.],\n",
              "           [0., 0., 0., 0., 0., 0.],\n",
              "           [0., 0., 0., 0., 0., 0.],\n",
              "           [0., 0., 0., 0., 0., 0.],\n",
              "           [0., 0., 0., 0., 0., 0.]]],\n",
              "\n",
              "\n",
              "         [[[0., 0., 0., 0., 0., 0.],\n",
              "           [0., 0., 0., 0., 0., 0.],\n",
              "           [0., 0., 0., 0., 0., 0.],\n",
              "           [0., 0., 0., 0., 0., 0.],\n",
              "           [0., 0., 0., 0., 0., 0.]],\n",
              "\n",
              "          [[0., 0., 0., 0., 0., 0.],\n",
              "           [0., 0., 0., 0., 0., 0.],\n",
              "           [0., 0., 0., 0., 0., 0.],\n",
              "           [0., 0., 0., 0., 0., 0.],\n",
              "           [0., 0., 0., 0., 0., 0.]],\n",
              "\n",
              "          [[0., 0., 0., 0., 0., 0.],\n",
              "           [0., 0., 0., 0., 0., 0.],\n",
              "           [0., 0., 0., 0., 0., 0.],\n",
              "           [0., 0., 0., 0., 0., 0.],\n",
              "           [0., 0., 0., 0., 0., 0.]],\n",
              "\n",
              "          [[0., 0., 0., 0., 0., 0.],\n",
              "           [0., 0., 0., 0., 0., 0.],\n",
              "           [0., 0., 0., 0., 0., 0.],\n",
              "           [0., 0., 0., 0., 0., 0.],\n",
              "           [0., 0., 0., 0., 0., 0.]]]]])"
            ]
          },
          "metadata": {},
          "execution_count": 72
        }
      ]
    },
    {
      "cell_type": "code",
      "source": [
        "rank_5_tensor.ndim, rank_5_tensor.shape, rank_5_tensor.dtype"
      ],
      "metadata": {
        "colab": {
          "base_uri": "https://localhost:8080/"
        },
        "id": "sxoOgTDbZlVs",
        "outputId": "12ad35ce-ff9e-41ff-bde3-95535b4a17ee"
      },
      "execution_count": null,
      "outputs": [
        {
          "output_type": "execute_result",
          "data": {
            "text/plain": [
              "(5, torch.Size([2, 3, 4, 5, 6]), torch.float32)"
            ]
          },
          "metadata": {},
          "execution_count": 73
        }
      ]
    },
    {
      "cell_type": "code",
      "source": [
        "print(\"Datatype of every element:\", rank_5_tensor.dtype)\n",
        "print(\"Number of dimensions (rank):\", rank_5_tensor.ndim)\n",
        "print(\"shape of tensor:\", rank_5_tensor.shape)\n",
        "print(\"Elements along the 0 axis:\", rank_5_tensor.shape[0])\n",
        "print(\"Elements along the last axis:\", rank_5_tensor.shape[-1])\n",
        "print(\"the total number of elements in our tensor:\", rank_5_tensor.numel())\n"
      ],
      "metadata": {
        "colab": {
          "base_uri": "https://localhost:8080/"
        },
        "id": "SuoGzshaZwav",
        "outputId": "d684c30b-7a7f-4615-dde1-f6d120c523e5"
      },
      "execution_count": null,
      "outputs": [
        {
          "output_type": "stream",
          "name": "stdout",
          "text": [
            "Datatype of every element: torch.float32\n",
            "Number of dimensions (rank): 5\n",
            "shape of tensor: torch.Size([2, 3, 4, 5, 6])\n",
            "Elements along the 0 axis: 2\n",
            "Elements along the last axis: 6\n",
            "the total number of elements in our tensor: 720\n"
          ]
        }
      ]
    },
    {
      "cell_type": "code",
      "source": [
        "rank_5_tensor[0]"
      ],
      "metadata": {
        "colab": {
          "base_uri": "https://localhost:8080/"
        },
        "id": "439jyWsObNaG",
        "outputId": "8a4e8100-d701-48f1-8b2a-10dabd049c24"
      },
      "execution_count": null,
      "outputs": [
        {
          "output_type": "execute_result",
          "data": {
            "text/plain": [
              "tensor([[[[0., 0., 0., 0., 0., 0.],\n",
              "          [0., 0., 0., 0., 0., 0.],\n",
              "          [0., 0., 0., 0., 0., 0.],\n",
              "          [0., 0., 0., 0., 0., 0.],\n",
              "          [0., 0., 0., 0., 0., 0.]],\n",
              "\n",
              "         [[0., 0., 0., 0., 0., 0.],\n",
              "          [0., 0., 0., 0., 0., 0.],\n",
              "          [0., 0., 0., 0., 0., 0.],\n",
              "          [0., 0., 0., 0., 0., 0.],\n",
              "          [0., 0., 0., 0., 0., 0.]],\n",
              "\n",
              "         [[0., 0., 0., 0., 0., 0.],\n",
              "          [0., 0., 0., 0., 0., 0.],\n",
              "          [0., 0., 0., 0., 0., 0.],\n",
              "          [0., 0., 0., 0., 0., 0.],\n",
              "          [0., 0., 0., 0., 0., 0.]],\n",
              "\n",
              "         [[0., 0., 0., 0., 0., 0.],\n",
              "          [0., 0., 0., 0., 0., 0.],\n",
              "          [0., 0., 0., 0., 0., 0.],\n",
              "          [0., 0., 0., 0., 0., 0.],\n",
              "          [0., 0., 0., 0., 0., 0.]]],\n",
              "\n",
              "\n",
              "        [[[0., 0., 0., 0., 0., 0.],\n",
              "          [0., 0., 0., 0., 0., 0.],\n",
              "          [0., 0., 0., 0., 0., 0.],\n",
              "          [0., 0., 0., 0., 0., 0.],\n",
              "          [0., 0., 0., 0., 0., 0.]],\n",
              "\n",
              "         [[0., 0., 0., 0., 0., 0.],\n",
              "          [0., 0., 0., 0., 0., 0.],\n",
              "          [0., 0., 0., 0., 0., 0.],\n",
              "          [0., 0., 0., 0., 0., 0.],\n",
              "          [0., 0., 0., 0., 0., 0.]],\n",
              "\n",
              "         [[0., 0., 0., 0., 0., 0.],\n",
              "          [0., 0., 0., 0., 0., 0.],\n",
              "          [0., 0., 0., 0., 0., 0.],\n",
              "          [0., 0., 0., 0., 0., 0.],\n",
              "          [0., 0., 0., 0., 0., 0.]],\n",
              "\n",
              "         [[0., 0., 0., 0., 0., 0.],\n",
              "          [0., 0., 0., 0., 0., 0.],\n",
              "          [0., 0., 0., 0., 0., 0.],\n",
              "          [0., 0., 0., 0., 0., 0.],\n",
              "          [0., 0., 0., 0., 0., 0.]]],\n",
              "\n",
              "\n",
              "        [[[0., 0., 0., 0., 0., 0.],\n",
              "          [0., 0., 0., 0., 0., 0.],\n",
              "          [0., 0., 0., 0., 0., 0.],\n",
              "          [0., 0., 0., 0., 0., 0.],\n",
              "          [0., 0., 0., 0., 0., 0.]],\n",
              "\n",
              "         [[0., 0., 0., 0., 0., 0.],\n",
              "          [0., 0., 0., 0., 0., 0.],\n",
              "          [0., 0., 0., 0., 0., 0.],\n",
              "          [0., 0., 0., 0., 0., 0.],\n",
              "          [0., 0., 0., 0., 0., 0.]],\n",
              "\n",
              "         [[0., 0., 0., 0., 0., 0.],\n",
              "          [0., 0., 0., 0., 0., 0.],\n",
              "          [0., 0., 0., 0., 0., 0.],\n",
              "          [0., 0., 0., 0., 0., 0.],\n",
              "          [0., 0., 0., 0., 0., 0.]],\n",
              "\n",
              "         [[0., 0., 0., 0., 0., 0.],\n",
              "          [0., 0., 0., 0., 0., 0.],\n",
              "          [0., 0., 0., 0., 0., 0.],\n",
              "          [0., 0., 0., 0., 0., 0.],\n",
              "          [0., 0., 0., 0., 0., 0.]]]])"
            ]
          },
          "metadata": {},
          "execution_count": 75
        }
      ]
    },
    {
      "cell_type": "markdown",
      "source": [
        "### Indexing tensor"
      ],
      "metadata": {
        "id": "KOGviFfUaJul"
      }
    },
    {
      "cell_type": "code",
      "source": [
        "rank_5_tensor[:,0,2:3]"
      ],
      "metadata": {
        "colab": {
          "base_uri": "https://localhost:8080/"
        },
        "id": "Kf0z6YLAbYu4",
        "outputId": "2072c2f8-50f7-4bda-aad1-65344891d35a"
      },
      "execution_count": null,
      "outputs": [
        {
          "output_type": "execute_result",
          "data": {
            "text/plain": [
              "tensor([[[[0., 0., 0., 0., 0., 0.],\n",
              "          [0., 0., 0., 0., 0., 0.],\n",
              "          [0., 0., 0., 0., 0., 0.],\n",
              "          [0., 0., 0., 0., 0., 0.],\n",
              "          [0., 0., 0., 0., 0., 0.]]],\n",
              "\n",
              "\n",
              "        [[[0., 0., 0., 0., 0., 0.],\n",
              "          [0., 0., 0., 0., 0., 0.],\n",
              "          [0., 0., 0., 0., 0., 0.],\n",
              "          [0., 0., 0., 0., 0., 0.],\n",
              "          [0., 0., 0., 0., 0., 0.]]]])"
            ]
          },
          "metadata": {},
          "execution_count": 77
        }
      ]
    },
    {
      "cell_type": "markdown",
      "source": [
        "### Basic Operation"
      ],
      "metadata": {
        "id": "0PGrxtJybpn8"
      }
    },
    {
      "cell_type": "code",
      "source": [
        "tensor = torch.tensor([1,2,3])\n",
        "tensor + 10, tensor - 10, tensor * 10, tensor / 10"
      ],
      "metadata": {
        "colab": {
          "base_uri": "https://localhost:8080/"
        },
        "id": "G9x1SPJVcTZh",
        "outputId": "b386da25-2157-42a5-82c1-c5d1bcb4b2e5"
      },
      "execution_count": null,
      "outputs": [
        {
          "output_type": "execute_result",
          "data": {
            "text/plain": [
              "(tensor([11, 12, 13]),\n",
              " tensor([-9, -8, -7]),\n",
              " tensor([10, 20, 30]),\n",
              " tensor([0.1000, 0.2000, 0.3000]))"
            ]
          },
          "metadata": {},
          "execution_count": 78
        }
      ]
    },
    {
      "cell_type": "markdown",
      "source": [
        "#### Matrix multiplicaiton"
      ],
      "metadata": {
        "id": "9ZP5dQozckJx"
      }
    },
    {
      "cell_type": "code",
      "source": [
        "tensor = torch.tensor([[1,2],[4,5]])\n",
        "\n",
        "tensor @ tensor, torch.matmul(tensor, tensor)\n"
      ],
      "metadata": {
        "colab": {
          "base_uri": "https://localhost:8080/"
        },
        "id": "BIt86ZjfcV4h",
        "outputId": "07c4e30b-c343-4a5c-a715-278460bcc894"
      },
      "execution_count": null,
      "outputs": [
        {
          "output_type": "execute_result",
          "data": {
            "text/plain": [
              "(tensor([[ 9, 12],\n",
              "         [24, 33]]),\n",
              " tensor([[ 9, 12],\n",
              "         [24, 33]]))"
            ]
          },
          "metadata": {},
          "execution_count": 83
        }
      ]
    },
    {
      "cell_type": "markdown",
      "source": [
        "### Changing data type"
      ],
      "metadata": {
        "id": "DF3HidzVc4JH"
      }
    },
    {
      "cell_type": "code",
      "source": [
        "tensor = torch.tensor([1,2,3], dtype=torch.float32)\n",
        "print(tensor.dtype)\n",
        "tensor = tensor.type(torch.int32)\n",
        "print(tensor.dtype)\n",
        "tensor = tensor.to(torch.float64)\n",
        "print(tensor.dtype)"
      ],
      "metadata": {
        "colab": {
          "base_uri": "https://localhost:8080/"
        },
        "id": "3yJ_qSNcdP74",
        "outputId": "114ff867-7efd-43a9-e75b-63a7b7e2eb26"
      },
      "execution_count": null,
      "outputs": [
        {
          "output_type": "stream",
          "name": "stdout",
          "text": [
            "torch.float32\n",
            "torch.int32\n",
            "torch.float64\n"
          ]
        }
      ]
    },
    {
      "cell_type": "markdown",
      "source": [
        "### Aggregating tensor"
      ],
      "metadata": {
        "id": "0Ie74432dsch"
      }
    },
    {
      "cell_type": "code",
      "source": [
        "tensor = torch.tensor([1,-2,-3], dtype=torch.float32)\n",
        "tensor.abs(), tensor.min(), tensor.max(), tensor.mean(), tensor.sum(), tensor.argmin(), tensor.argmax()"
      ],
      "metadata": {
        "colab": {
          "base_uri": "https://localhost:8080/"
        },
        "id": "PSNcP8QNeZ0n",
        "outputId": "cff0bc37-1d22-421d-a9f0-84c6004dd2d6"
      },
      "execution_count": null,
      "outputs": [
        {
          "output_type": "execute_result",
          "data": {
            "text/plain": [
              "(tensor([1., 2., 3.]),\n",
              " tensor(-3.),\n",
              " tensor(1.),\n",
              " tensor(-1.3333),\n",
              " tensor(-4.),\n",
              " tensor(2),\n",
              " tensor(0))"
            ]
          },
          "metadata": {},
          "execution_count": 95
        }
      ]
    },
    {
      "cell_type": "markdown",
      "source": [
        "#### Variance & Standard Deviation"
      ],
      "metadata": {
        "id": "J0i6lYj0exP9"
      }
    },
    {
      "cell_type": "code",
      "source": [
        "tensor = torch.tensor([[1,2,3],[1,2,4]], dtype=float) # for variance and std shape doesnot matter\n",
        "tensor.var(), tensor.std()"
      ],
      "metadata": {
        "colab": {
          "base_uri": "https://localhost:8080/"
        },
        "id": "RcNNrhuGfm6J",
        "outputId": "94f702b7-f29b-4f71-bd78-4f1bede685c3"
      },
      "execution_count": null,
      "outputs": [
        {
          "output_type": "execute_result",
          "data": {
            "text/plain": [
              "(tensor(1.3667, dtype=torch.float64), tensor(1.1690, dtype=torch.float64))"
            ]
          },
          "metadata": {},
          "execution_count": 94
        }
      ]
    },
    {
      "cell_type": "markdown",
      "source": [
        "### Squaring, Log, Square root"
      ],
      "metadata": {
        "id": "_G2MFwJYqGcp"
      }
    },
    {
      "cell_type": "code",
      "source": [
        "tensor = torch.range(0,10)\n",
        "tensor"
      ],
      "metadata": {
        "colab": {
          "base_uri": "https://localhost:8080/"
        },
        "id": "Bix6DyalqLRk",
        "outputId": "94a5db98-ed51-46cf-e42e-55dbe145669c"
      },
      "execution_count": null,
      "outputs": [
        {
          "output_type": "stream",
          "name": "stderr",
          "text": [
            "<ipython-input-121-03512ef968c3>:1: UserWarning: torch.range is deprecated and will be removed in a future release because its behavior is inconsistent with Python's range builtin. Instead, use torch.arange, which produces values in [start, end).\n",
            "  tensor = torch.range(0,10)\n"
          ]
        },
        {
          "output_type": "execute_result",
          "data": {
            "text/plain": [
              "tensor([ 0.,  1.,  2.,  3.,  4.,  5.,  6.,  7.,  8.,  9., 10.])"
            ]
          },
          "metadata": {},
          "execution_count": 121
        }
      ]
    },
    {
      "cell_type": "code",
      "source": [
        "tensor.square(), torch.square(tensor), tensor**2,torch.pow(tensor, 2), torch.sqrt(tensor.float())"
      ],
      "metadata": {
        "colab": {
          "base_uri": "https://localhost:8080/"
        },
        "id": "domLevZjqdKM",
        "outputId": "47179421-1859-48d7-818b-c2ec949739a0"
      },
      "execution_count": null,
      "outputs": [
        {
          "output_type": "execute_result",
          "data": {
            "text/plain": [
              "(tensor([  0.,   1.,   4.,   9.,  16.,  25.,  36.,  49.,  64.,  81., 100.]),\n",
              " tensor([  0.,   1.,   4.,   9.,  16.,  25.,  36.,  49.,  64.,  81., 100.]),\n",
              " tensor([  0.,   1.,   4.,   9.,  16.,  25.,  36.,  49.,  64.,  81., 100.]),\n",
              " tensor([  0.,   1.,   4.,   9.,  16.,  25.,  36.,  49.,  64.,  81., 100.]),\n",
              " tensor([0.0000, 1.0000, 1.4142, 1.7321, 2.0000, 2.2361, 2.4495, 2.6458, 2.8284,\n",
              "         3.0000, 3.1623]))"
            ]
          },
          "metadata": {},
          "execution_count": 125
        }
      ]
    },
    {
      "cell_type": "markdown",
      "source": [
        "### Squeezing tensor (removing single dimension)"
      ],
      "metadata": {
        "id": "K3Iap2DpgCUH"
      }
    },
    {
      "cell_type": "code",
      "source": [
        "tensor = torch.rand(50)\n",
        "tensor"
      ],
      "metadata": {
        "colab": {
          "base_uri": "https://localhost:8080/"
        },
        "id": "6Jb6pk0zhehw",
        "outputId": "60e6fa22-c524-4c04-ccc9-254f379adf8f"
      },
      "execution_count": null,
      "outputs": [
        {
          "output_type": "execute_result",
          "data": {
            "text/plain": [
              "tensor([0.4452, 0.1258, 0.9554, 0.1330, 0.7672, 0.6757, 0.6625, 0.2297, 0.9545,\n",
              "        0.6099, 0.5643, 0.0594, 0.7099, 0.4250, 0.2709, 0.9295, 0.6115, 0.2234,\n",
              "        0.2469, 0.4761, 0.7792, 0.3722, 0.2147, 0.3288, 0.1265, 0.6783, 0.8870,\n",
              "        0.0293, 0.6161, 0.7583, 0.5907, 0.3219, 0.7610, 0.7628, 0.6870, 0.4121,\n",
              "        0.3676, 0.5535, 0.4117, 0.3510, 0.8196, 0.9297, 0.4505, 0.3881, 0.5073,\n",
              "        0.4701, 0.6202, 0.6401, 0.0459, 0.3155])"
            ]
          },
          "metadata": {},
          "execution_count": 103
        }
      ]
    },
    {
      "cell_type": "code",
      "source": [
        "torch.manual_seed(42)\n",
        "tensor = torch.rand(1,1,1,50)\n",
        "tensor"
      ],
      "metadata": {
        "colab": {
          "base_uri": "https://localhost:8080/"
        },
        "id": "8XgZ6BJthmdf",
        "outputId": "493011c0-ed58-4182-85e6-e81ce94b3bc5"
      },
      "execution_count": null,
      "outputs": [
        {
          "output_type": "execute_result",
          "data": {
            "text/plain": [
              "tensor([[[[0.8823, 0.9150, 0.3829, 0.9593, 0.3904, 0.6009, 0.2566, 0.7936,\n",
              "           0.9408, 0.1332, 0.9346, 0.5936, 0.8694, 0.5677, 0.7411, 0.4294,\n",
              "           0.8854, 0.5739, 0.2666, 0.6274, 0.2696, 0.4414, 0.2969, 0.8317,\n",
              "           0.1053, 0.2695, 0.3588, 0.1994, 0.5472, 0.0062, 0.9516, 0.0753,\n",
              "           0.8860, 0.5832, 0.3376, 0.8090, 0.5779, 0.9040, 0.5547, 0.3423,\n",
              "           0.6343, 0.3644, 0.7104, 0.9464, 0.7890, 0.2814, 0.7886, 0.5895,\n",
              "           0.7539, 0.1952]]]])"
            ]
          },
          "metadata": {},
          "execution_count": 106
        }
      ]
    },
    {
      "cell_type": "code",
      "source": [
        "torch.manual_seed(42)\n",
        "tensor = torch.rand(50).view(1,1,1,50)  # View is to reshape the tensor\n",
        "tensor, tensor.shape"
      ],
      "metadata": {
        "colab": {
          "base_uri": "https://localhost:8080/"
        },
        "id": "RffoAr7CiuJv",
        "outputId": "9e078668-1fad-4c34-eb94-a484578cbb16"
      },
      "execution_count": null,
      "outputs": [
        {
          "output_type": "execute_result",
          "data": {
            "text/plain": [
              "(tensor([[[[0.8823, 0.9150, 0.3829, 0.9593, 0.3904, 0.6009, 0.2566, 0.7936,\n",
              "            0.9408, 0.1332, 0.9346, 0.5936, 0.8694, 0.5677, 0.7411, 0.4294,\n",
              "            0.8854, 0.5739, 0.2666, 0.6274, 0.2696, 0.4414, 0.2969, 0.8317,\n",
              "            0.1053, 0.2695, 0.3588, 0.1994, 0.5472, 0.0062, 0.9516, 0.0753,\n",
              "            0.8860, 0.5832, 0.3376, 0.8090, 0.5779, 0.9040, 0.5547, 0.3423,\n",
              "            0.6343, 0.3644, 0.7104, 0.9464, 0.7890, 0.2814, 0.7886, 0.5895,\n",
              "            0.7539, 0.1952]]]]),\n",
              " torch.Size([1, 1, 1, 50]))"
            ]
          },
          "metadata": {},
          "execution_count": 111
        }
      ]
    },
    {
      "cell_type": "code",
      "source": [
        "tensor.squeeze(), tensor.squeeze().shape"
      ],
      "metadata": {
        "colab": {
          "base_uri": "https://localhost:8080/"
        },
        "id": "S9l2ThZFjC6a",
        "outputId": "ab22c694-7e90-4bb7-c2c6-07d92cb34f9e"
      },
      "execution_count": null,
      "outputs": [
        {
          "output_type": "execute_result",
          "data": {
            "text/plain": [
              "(tensor([0.8823, 0.9150, 0.3829, 0.9593, 0.3904, 0.6009, 0.2566, 0.7936, 0.9408,\n",
              "         0.1332, 0.9346, 0.5936, 0.8694, 0.5677, 0.7411, 0.4294, 0.8854, 0.5739,\n",
              "         0.2666, 0.6274, 0.2696, 0.4414, 0.2969, 0.8317, 0.1053, 0.2695, 0.3588,\n",
              "         0.1994, 0.5472, 0.0062, 0.9516, 0.0753, 0.8860, 0.5832, 0.3376, 0.8090,\n",
              "         0.5779, 0.9040, 0.5547, 0.3423, 0.6343, 0.3644, 0.7104, 0.9464, 0.7890,\n",
              "         0.2814, 0.7886, 0.5895, 0.7539, 0.1952]),\n",
              " torch.Size([50]))"
            ]
          },
          "metadata": {},
          "execution_count": 110
        }
      ]
    },
    {
      "cell_type": "markdown",
      "source": [
        "### Unsqueezing in torch ( similar to tf.expand in tensorflow)"
      ],
      "metadata": {
        "id": "WIAqEzfeTlDF"
      }
    },
    {
      "cell_type": "code",
      "source": [
        "import torch\n",
        "\n",
        "# Create a 1D tensor\n",
        "X = torch.tensor([1, 2, 3, 4])\n",
        "\n",
        "# Expand dimensions\n",
        "X_expanded = X.unsqueeze(-1)\n",
        "\n",
        "print(\"Original Tensor:\", X)\n",
        "print(\"Expanded Tensor:\", X_expanded)"
      ],
      "metadata": {
        "id": "AofvmUcrTt5l"
      },
      "execution_count": null,
      "outputs": []
    },
    {
      "cell_type": "code",
      "source": [
        "import torch\n",
        "\n",
        "# Create a 2D tensor\n",
        "X = torch.tensor([[1, 2, 3], [4, 5, 6]])\n",
        "\n",
        "print(\"Original Tensor:\", X)\n",
        "\n",
        "# Expand dimension at first position\n",
        "X_expanded_first = X.unsqueeze(0)\n",
        "# Expand dimensions at the second position (axis=1)\n",
        "X_expanded_second = X.unsqueeze(1)\n",
        "# Expand dim at last position\n",
        "X_expanded_last = X.unsqueeze(-1)\n",
        "\n",
        "\n",
        "print(\"Expanded Tensor at the first position:\", X_expanded_first)\n",
        "print(\"Expanded Tensor at the second position:\", X_expanded_second)\n",
        "print(\"Expanded Tensor at the last position:\", X_expanded_last)"
      ],
      "metadata": {
        "id": "3XOW0fuWU76f"
      },
      "execution_count": null,
      "outputs": []
    },
    {
      "cell_type": "markdown",
      "source": [
        "## One Hot Encoding"
      ],
      "metadata": {
        "id": "WF4gcQabjULk"
      }
    },
    {
      "cell_type": "code",
      "source": [
        "some_list = [0,1,2,3,4,5]\n",
        "tensor = torch.nn.functional.one_hot(torch.tensor(some_list), num_classes=6)\n",
        "tensor"
      ],
      "metadata": {
        "colab": {
          "base_uri": "https://localhost:8080/"
        },
        "id": "PtMFGnHfkaD7",
        "outputId": "de4779a1-766e-4660-d1a3-b5ea2cfe0c38"
      },
      "execution_count": null,
      "outputs": [
        {
          "output_type": "execute_result",
          "data": {
            "text/plain": [
              "tensor([[1, 0, 0, 0, 0, 0],\n",
              "        [0, 1, 0, 0, 0, 0],\n",
              "        [0, 0, 1, 0, 0, 0],\n",
              "        [0, 0, 0, 1, 0, 0],\n",
              "        [0, 0, 0, 0, 1, 0],\n",
              "        [0, 0, 0, 0, 0, 1]])"
            ]
          },
          "metadata": {},
          "execution_count": 113
        }
      ]
    },
    {
      "cell_type": "code",
      "source": [
        "torch.tensor(some_list)"
      ],
      "metadata": {
        "colab": {
          "base_uri": "https://localhost:8080/"
        },
        "id": "7EQ_-rq8nyvO",
        "outputId": "acea9318-afbd-4024-99cb-d82ccad49cb9"
      },
      "execution_count": null,
      "outputs": [
        {
          "output_type": "execute_result",
          "data": {
            "text/plain": [
              "tensor([0, 1, 2, 3, 4, 5])"
            ]
          },
          "metadata": {},
          "execution_count": 119
        }
      ]
    },
    {
      "cell_type": "code",
      "source": [
        "tensor = torch.nn.functional.one_hot(torch.tensor(some_list), num_classes=7)\n",
        "tensor"
      ],
      "metadata": {
        "colab": {
          "base_uri": "https://localhost:8080/"
        },
        "id": "__ChVbsImHrx",
        "outputId": "db174208-976d-484d-b461-db703c10187e"
      },
      "execution_count": null,
      "outputs": [
        {
          "output_type": "execute_result",
          "data": {
            "text/plain": [
              "tensor([[1, 0, 0, 0, 0, 0, 0],\n",
              "        [0, 1, 0, 0, 0, 0, 0],\n",
              "        [0, 0, 1, 0, 0, 0, 0],\n",
              "        [0, 0, 0, 1, 0, 0, 0],\n",
              "        [0, 0, 0, 0, 1, 0, 0],\n",
              "        [0, 0, 0, 0, 0, 1, 0]])"
            ]
          },
          "metadata": {},
          "execution_count": 114
        }
      ]
    },
    {
      "cell_type": "code",
      "source": [
        "torch.arange(0, 6).view(3,2) % 3"
      ],
      "metadata": {
        "colab": {
          "base_uri": "https://localhost:8080/"
        },
        "id": "8SWFYZDEmNRs",
        "outputId": "b0427320-47e9-41c4-aec3-d7d6961d2677"
      },
      "execution_count": null,
      "outputs": [
        {
          "output_type": "execute_result",
          "data": {
            "text/plain": [
              "tensor([[0, 1],\n",
              "        [2, 0],\n",
              "        [1, 2]])"
            ]
          },
          "metadata": {},
          "execution_count": 115
        }
      ]
    },
    {
      "cell_type": "code",
      "source": [
        "torch.nn.functional.one_hot(torch.arange(0, 6).view(3,2) % 3, num_classes=3)"
      ],
      "metadata": {
        "colab": {
          "base_uri": "https://localhost:8080/"
        },
        "id": "igJPzcmrnB-j",
        "outputId": "18aedc33-9119-4d31-fb0e-247f197b1215"
      },
      "execution_count": null,
      "outputs": [
        {
          "output_type": "execute_result",
          "data": {
            "text/plain": [
              "tensor([[[1, 0, 0],\n",
              "         [0, 1, 0]],\n",
              "\n",
              "        [[0, 0, 1],\n",
              "         [1, 0, 0]],\n",
              "\n",
              "        [[0, 1, 0],\n",
              "         [0, 0, 1]]])"
            ]
          },
          "metadata": {},
          "execution_count": 118
        }
      ]
    },
    {
      "cell_type": "code",
      "source": [],
      "metadata": {
        "id": "LzwcPFIcnSa8"
      },
      "execution_count": null,
      "outputs": []
    }
  ]
}